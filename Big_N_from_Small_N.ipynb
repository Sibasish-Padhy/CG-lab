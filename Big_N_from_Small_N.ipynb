{
  "nbformat": 4,
  "nbformat_minor": 0,
  "metadata": {
    "colab": {
      "name": "Big N_from_Small_N.ipynb",
      "provenance": []
    },
    "kernelspec": {
      "name": "python3",
      "display_name": "Python 3"
    },
    "language_info": {
      "name": "python"
    }
  },
  "cells": [
    {
      "cell_type": "code",
      "metadata": {
        "colab": {
          "base_uri": "https://localhost:8080/"
        },
        "id": "TP2I61yjYyO2",
        "outputId": "21fbad84-2ad6-42a9-8bf3-0efc61161daf"
      },
      "source": [
        "size =int(input(\"Enter your size: \"))# enter the size from the user\n",
        "print(size)#print size\n",
        "\n",
        "for i in range (0,size):#taking in the rows in the outer loop\n",
        "  for j in range(0,size):#taking in the columns in the inner loop\n",
        "    if j==0 or j==size-1 or(i==j and j<size-1): #if column is 0 or column is less than the maximum value fo the size then\n",
        "      print(\"N\",end=\"\")#print N  and leave space behind\n",
        "\n",
        "    else:#else\n",
        "        print(end=\" \")#print blank space\n",
        "#coming out of the inner loop\n",
        "  print()# generate new line\n",
        "  \n",
        "#the pseudo codes are written in the comment lines        \n",
        "        \n",
        "        \n",
        "            \n",
        "        \n",
        "        "
      ],
      "execution_count": null,
      "outputs": [
        {
          "output_type": "stream",
          "text": [
            "Enter your size: 12\n",
            "12\n",
            "N          N\n",
            "NN         N\n",
            "N N        N\n",
            "N  N       N\n",
            "N   N      N\n",
            "N    N     N\n",
            "N     N    N\n",
            "N      N   N\n",
            "N       N  N\n",
            "N        N N\n",
            "N         NN\n",
            "N          N\n"
          ],
          "name": "stdout"
        }
      ]
    }
  ]
}